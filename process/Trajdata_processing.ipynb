{
 "cells": [
  {
   "cell_type": "code",
   "execution_count": 5,
   "metadata": {},
   "outputs": [],
   "source": [
    "import numpy as np\n",
    "import os, glob, copy\n",
    "from tqdm.notebook import tqdm\n",
    "from matplotlib import pyplot as plt\n",
    "from geopy.distance import distance\n",
    "import json"
   ]
  },
  {
   "cell_type": "code",
   "execution_count": 11,
   "metadata": {},
   "outputs": [],
   "source": [
    "# load original files\n",
    "filepath='/xxxxxx/'\n",
    "qry = filepath +'*.npy'\n",
    "files = glob.glob(qry)\n",
    "files.sort()"
   ]
  },
  {
   "cell_type": "code",
   "execution_count": 8,
   "metadata": {},
   "outputs": [],
   "source": [
    "def compute_total_distance(traj):\n",
    "    \"\"\"\n",
    "    Compute the total distance of a trajectory.\n",
    "\n",
    "    Parameters:\n",
    "        traj (np.ndarray): trajectory, shape (N, 2)\n",
    "\n",
    "    Returns:\n",
    "        float: total distance\n",
    "    \"\"\"\n",
    "    distances = [distance(traj[i][::-1], traj[i+1][::-1]).m for i in range(len(traj)-1)]\n",
    "    return sum(distances)\n",
    "\n",
    "def traj_wraping(x, length=200):\n",
    "    \"\"\"\n",
    "    using linear interpolation to warp a trajectory to a fixed length\n",
    "\n",
    "    Parameters:\n",
    "        x (np.ndarray): trajectory, shape (N, 2)\n",
    "        length (int): the length of the warped trajectory\n",
    "    \n",
    "    Returns:\n",
    "        np.ndarray: warped trajectory, shape (length, 2)\n",
    "    \"\"\"\n",
    "    len_x = len(x)\n",
    "    time_steps = np.arange(length) * (len_x - 1) / (length - 1)\n",
    "    road_index = time_steps.astype(np.int32)\n",
    "    traj = x[:,:2].T\n",
    "    road = x[:,2]\n",
    "    warped_trajectory = np.zeros((2, length))\n",
    "    for i in range(2):\n",
    "        warped_trajectory[i] = np.interp(time_steps, np.arange(len_x), traj[i])\n",
    "    warped_road = road[road_index]\n",
    "    warped_trajectory = np.concatenate((warped_trajectory.T, warped_road[:, None]), axis=1)\n",
    "    return warped_trajectory\n"
   ]
  },
  {
   "cell_type": "code",
   "execution_count": 9,
   "metadata": {},
   "outputs": [],
   "source": [
    "def divide_grids(boundary, grids_num=12):\n",
    "    \"\"\" \n",
    "    Divide the start and end areas of the trajectory\n",
    "    Parameters:\n",
    "        boundary (dictory): include the boundary of latitude and longitude\n",
    "\n",
    "    Returns:\n",
    "        list: the list of latitude and longitude values for each grid\n",
    "    \"\"\"\n",
    "    lati_min, lati_max = boundary['lati_min'], boundary['lati_max']\n",
    "    long_min, long_max = boundary['long_min'], boundary['long_max']\n",
    "    # Divide the latitude and longitude into grids_num intervals.\n",
    "    lati_interval = (lati_max - lati_min) / grids_num\n",
    "    long_interval = (long_max - long_min) / grids_num\n",
    "    # Create arrays of latitude and longitude values.\n",
    "    latgrids = np.arange(lati_min, lati_max, lati_interval)\n",
    "    longrids = np.arange(long_min, long_max, long_interval)\n",
    "    return latgrids, longrids\n",
    "\n",
    "def count_points_in_grid(lng, lati, longrids, latgrids, grids_num=12):\n",
    "    \"\"\"\n",
    "    calculete the index of the grid\n",
    "    \"\"\"\n",
    "    lati_index = np.searchsorted(latgrids, lati, side='right') - 1\n",
    "    long_index = np.searchsorted(longrids, lng, side='right') - 1\n",
    "    return lati_index * grids_num + long_index\n",
    "\n",
    "# boundary\n",
    "# {\"lati_max\": 30.73391319203361, \n",
    "# \"long_max\": 104.13132306846771,\n",
    "# \"lati_min\": 30.6517184514858, \n",
    "# \"long_min\": 104.03535429444587}\n",
    "# the mean and std of the latitude and longitude\n",
    "mean = np.array([108.9462081441436, 34.24473806539756])\n",
    "std = np.array([2.30826803e-02, 1.97827013e-02])\n",
    "\n",
    "# load the boundary\n",
    "boundary = json.load(open('xxx/boundary.json'))\n",
    "grids_num=12\n",
    "latgrids,longrids=divide_grids(boundary, grids_num)"
   ]
  },
  {
   "cell_type": "code",
   "execution_count": 10,
   "metadata": {},
   "outputs": [],
   "source": [
    "def extract_feature(trips, threshold=120, length=200):\n",
    "    '''\n",
    "    Extract the features of a trip.\n",
    "    Head attributes:\n",
    "    trip_time, departure_time, trip_length, trip_distance, avg_dis, avg_speed, s_id, e_id\n",
    "    Trajectory:\n",
    "    Length warpped trajectory, default length is 200\n",
    "    '''\n",
    "    trips_attrs, trips_trajs = [], []\n",
    "    for trip in (trips):\n",
    "        if len(trip[1]) >= threshold:\n",
    "            all_dis = trip[1][:,4]\n",
    "            if np.max(all_dis) >200: # remove the trips with anomalies GPS distance\n",
    "                continue\n",
    "            trip_time, departure_time, trip_distance, trip_length, traj = trip[0][2], trip[0][3], trip[0][4], len(trip[1]), trip[1][:,:3].astype(np.float64)\n",
    "            avg_dis, avg_speed = trip_distance / trip_length, trip_distance / trip_time\n",
    "            start_loc, end_loc = traj[0], traj[-1]\n",
    "            s_id = count_points_in_grid(start_loc[0], start_loc[1], longrids, latgrids, grids_num)\n",
    "            e_id = count_points_in_grid(end_loc[0], end_loc[1], longrids, latgrids, grids_num)\n",
    "            traj = traj_wraping(traj, length)\n",
    "            head_attrs = [departure_time, trip_distance,  trip_time, trip_length, avg_dis, avg_speed, s_id, e_id]\n",
    "            trips_attrs.append(head_attrs)\n",
    "            trips_trajs.append(traj)\n",
    "    trips_attrs = np.array(trips_attrs)\n",
    "    trips_trajs = np.array(trips_trajs)\n",
    "    return trips_attrs, trips_trajs "
   ]
  },
  {
   "cell_type": "code",
   "execution_count": null,
   "metadata": {},
   "outputs": [],
   "source": [
    "all_traj_head,all_trajs=[],[]\n",
    "# setting the number of files to be processed\n",
    "files_number=40\n",
    "for i in tqdm(range(files_number)):\n",
    "    data = np.load(files[i], allow_pickle=True)\n",
    "    Traj_head,Trajs = extract_feature(data, threshold=120,length=200)\n",
    "    all_traj_head.append(Traj_head)\n",
    "    all_trajs.append(Trajs)\n",
    "    # break\n",
    "all_traj_head = np.vstack(all_traj_head)\n",
    "all_trajs = np.vstack(all_trajs)"
   ]
  },
  {
   "cell_type": "code",
   "execution_count": null,
   "metadata": {},
   "outputs": [],
   "source": [
    "# normalize the data\n",
    "h_mean = np.mean(all_traj_head[:,1:6], axis=0)\n",
    "h_std = np.std(all_traj_head[:,1:6], axis=0)\n",
    "all_traj_head[:,1:6] = (all_traj_head[:,1:6]-h_mean)/h_std\n",
    "all_trajs = (all_trajs-mean)/std\n",
    "# save data\n",
    "np.save('all_traj_head.npy',all_traj_head)\n",
    "np.save('all_trajs.npy',all_trajs)"
   ]
  }
 ],
 "metadata": {
  "interpreter": {
   "hash": "d9142733f49676e59978275f0f39c56c95b761e7d970c001e5656adbdf35d165"
  },
  "kernelspec": {
   "display_name": "Python 3",
   "language": "python",
   "name": "python3"
  },
  "language_info": {
   "codemirror_mode": {
    "name": "ipython",
    "version": 3
   },
   "file_extension": ".py",
   "mimetype": "text/x-python",
   "name": "python",
   "nbconvert_exporter": "python",
   "pygments_lexer": "ipython3",
   "version": "3.8.3"
  },
  "varInspector": {
   "cols": {
    "lenName": 16,
    "lenType": 16,
    "lenVar": 40
   },
   "kernels_config": {
    "python": {
     "delete_cmd_postfix": "",
     "delete_cmd_prefix": "del ",
     "library": "var_list.py",
     "varRefreshCmd": "print(var_dic_list())"
    },
    "r": {
     "delete_cmd_postfix": ") ",
     "delete_cmd_prefix": "rm(",
     "library": "var_list.r",
     "varRefreshCmd": "cat(var_dic_list()) "
    }
   },
   "types_to_exclude": [
    "module",
    "function",
    "builtin_function_or_method",
    "instance",
    "_Feature"
   ],
   "window_display": false
  }
 },
 "nbformat": 4,
 "nbformat_minor": 4
}
